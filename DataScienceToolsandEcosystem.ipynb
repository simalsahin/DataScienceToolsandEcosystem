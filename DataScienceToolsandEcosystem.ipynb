{
 "cells": [
  {
   "cell_type": "markdown",
   "id": "2328ab6e",
   "metadata": {},
   "source": [
    "# Data Science Tools and Ecosystem"
   ]
  },
  {
   "cell_type": "code",
   "execution_count": 2,
   "id": "8a13015e",
   "metadata": {},
   "outputs": [],
   "source": [
    "#In this notebook, Data Science Tools and Ecosystem are summarized.\n"
   ]
  },
  {
   "cell_type": "markdown",
   "id": "cf2c5509",
   "metadata": {},
   "source": [
    "**Objectives:**\n",
    "List Popular Languages in Data Science\n",
    "List Common Used Libraries in Data Science\n",
    "Arithmetic Expressions in Python"
   ]
  },
  {
   "cell_type": "markdown",
   "id": "32ba0a5f",
   "metadata": {},
   "source": [
    "Some of the popular languages that Data Scientists use are:\n",
    "1-Python\n",
    "2-R\n",
    "3-Java\n",
    "4-Scala\n",
    "5-Julia\n"
   ]
  },
  {
   "cell_type": "markdown",
   "id": "55bb5aa4",
   "metadata": {},
   "source": [
    "Some of the commonly used libraries used by Data Scientists include:\n",
    "1-Pandas\n",
    "2-Numpy\n",
    "3-Matplotlib\n",
    "4-Seaborn\n",
    "5-Pytorch\n",
    "6-Keras"
   ]
  },
  {
   "cell_type": "markdown",
   "id": "31be4d32",
   "metadata": {},
   "source": [
    "|Data Science Tools|\n",
    "|:----------------:|\n",
    "|RStudio           |\n",
    "|Apache Spark      |\n",
    "|RapidMiner        |\n"
   ]
  },
  {
   "cell_type": "markdown",
   "id": "ca377497",
   "metadata": {},
   "source": [
    "### Below are a few examples of evaluating arithmetic expressions in Python\n",
    "Addition (+)\n",
    "Subtraction (-)\n",
    "Multiplication (*)\n",
    "Division (/)\n"
   ]
  },
  {
   "cell_type": "code",
   "execution_count": 3,
   "id": "1a251927",
   "metadata": {},
   "outputs": [
    {
     "data": {
      "text/plain": [
       "17"
      ]
     },
     "execution_count": 3,
     "metadata": {},
     "output_type": "execute_result"
    }
   ],
   "source": [
    "#This a simple arithmetic expression to mutiply then add integers\n",
    "(3*4)+5"
   ]
  },
  {
   "cell_type": "code",
   "execution_count": 4,
   "id": "cd4065d5",
   "metadata": {},
   "outputs": [
    {
     "data": {
      "text/plain": [
       "3.3333333333333335"
      ]
     },
     "execution_count": 4,
     "metadata": {},
     "output_type": "execute_result"
    }
   ],
   "source": [
    "#This will convert 200 minutes to hours by diving by 60\n",
    "200/60"
   ]
  },
  {
   "cell_type": "markdown",
   "id": "edf3c0a6",
   "metadata": {},
   "source": [
    "## Author\n",
    "Şimal Şahin\n"
   ]
  },
  {
   "cell_type": "code",
   "execution_count": null,
   "id": "328bc574",
   "metadata": {},
   "outputs": [],
   "source": []
  }
 ],
 "metadata": {
  "kernelspec": {
   "display_name": "Python 3 (ipykernel)",
   "language": "python",
   "name": "python3"
  },
  "language_info": {
   "codemirror_mode": {
    "name": "ipython",
    "version": 3
   },
   "file_extension": ".py",
   "mimetype": "text/x-python",
   "name": "python",
   "nbconvert_exporter": "python",
   "pygments_lexer": "ipython3",
   "version": "3.11.5"
  }
 },
 "nbformat": 4,
 "nbformat_minor": 5
}
